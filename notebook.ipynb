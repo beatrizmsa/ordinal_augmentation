{
 "cells": [
  {
   "cell_type": "markdown",
   "metadata": {},
   "source": [
    "## Primeira Semana de Estágio\n"
   ]
  },
  {
   "cell_type": "markdown",
   "metadata": {},
   "source": [
    "### Implementar o cutout, mixup, cutmix"
   ]
  },
  {
   "cell_type": "code",
   "execution_count": 2,
   "metadata": {},
   "outputs": [],
   "source": [
    "import numpy as np\n",
    "import math\n",
    "import matplotlib.pyplot as plt\n",
    "import os\n",
    "from skimage import io\n",
    "from skimage.transform import resize\n",
    "from PIL import Image"
   ]
  },
  {
   "cell_type": "markdown",
   "metadata": {},
   "source": [
    "#### - mostrar imagens"
   ]
  },
  {
   "cell_type": "code",
   "execution_count": 3,
   "metadata": {},
   "outputs": [],
   "source": [
    "def display_images(image_1, image_2,final_image,method):\n",
    "    plt.figure(figsize=(10, 4))\n",
    "    \n",
    "    plt.subplot(1, 3, 1)\n",
    "    plt.imshow(image_1)\n",
    "    plt.title('Image 1')\n",
    "    \n",
    "    plt.subplot(1, 3, 2)\n",
    "    plt.imshow(image_2)\n",
    "    plt.title('Image 2')\n",
    "    \n",
    "    plt.subplot(1, 3, 3)\n",
    "    plt.imshow(final_image)\n",
    "    plt.title(method)\n",
    "    \n",
    "    plt.show()"
   ]
  },
  {
   "cell_type": "code",
   "execution_count": 4,
   "metadata": {},
   "outputs": [],
   "source": [
    "def display_image(image_1,final_image,method):\n",
    "    plt.figure(figsize=(10, 4))\n",
    "    \n",
    "    plt.subplot(1, 2, 1)\n",
    "    plt.imshow(image_1)\n",
    "    plt.title('Image 1')\n",
    "    \n",
    "    plt.subplot(1, 2, 2)\n",
    "    plt.imshow(final_image)\n",
    "    plt.title(method)\n",
    "    \n",
    "    plt.show()"
   ]
  },
  {
   "cell_type": "markdown",
   "metadata": {},
   "source": [
    "#### - Implementação do cutout"
   ]
  },
  {
   "cell_type": "markdown",
   "metadata": {},
   "source": [
    "'''CIFAR10/100 were normalized using per-channel mean\n",
    "and standard deviation. When required, we apply the standard data augmentation scheme for these datasets [5]. Images are first zero-padded with 4 pixels on each side to obtain a 40 × 40 pixel image, then a 32 × 32 crop is randomly\n",
    "extracted. Images are also randomly mirrored horizontally\n",
    "with 50% probability.\n",
    "Based on these validation results we select\n",
    "a cutout size of 16x16 pixels to use on CIFAR-10 and a cutout size of 8x8 pixels for CIFAR-100 when training on\n",
    "the full datasets.'''"
   ]
  },
  {
   "cell_type": "code",
   "execution_count": 5,
   "metadata": {},
   "outputs": [],
   "source": [
    "def cutout(image, size):\n",
    "    h, w = image.shape[:2]\n",
    "\n",
    "    y1 = np.random.randint(0, h-size)\n",
    "    y2 = y1 + size\n",
    "    x1 = np.random.randint(0, w-size)\n",
    "    x2 = x1 + size\n",
    "    position(y1,x1)\n",
    "    \n",
    "    image[y1:y2, x1:x2] = 0\n",
    "    \n",
    "    return image\n"
   ]
  },
  {
   "cell_type": "markdown",
   "metadata": {},
   "source": [
    "#### - Implementação do mixup"
   ]
  },
  {
   "cell_type": "markdown",
   "metadata": {},
   "source": [
    "Motivated by these issues, we introduce a simple and data-agnostic data augmentation routine, termed mixup (Section 2). In a nutshell, mixup constructs virtual training examples:\n",
    "- ``` X = λx1 + (1 − λ)xj , where xi, xj are raw input vectors ```\n",
    "- ```y˜ = λyi + (1 − λ)yj , where yi, yj are one-hot label encodings```\n",
    "\n",
    "(xi\n",
    ", yi) and (xj , yj ) are two examples drawn at random from our training data, and λ ∈ [0, 1].\n",
    "Therefore, mixup extends the training distribution by incorporating the prior knowledge that linear\n",
    "interpolations of feature vectors should lead to linear interpolations of the associated targets. mixup\n",
    "can be implemented in a few lines of code, and introduces minimal computation overhead."
   ]
  },
  {
   "cell_type": "code",
   "execution_count": 6,
   "metadata": {},
   "outputs": [],
   "source": [
    "def mixup(image_1, image_2, label_1, label_2):\n",
    "    \n",
    "    lamba = np.random.uniform(0, 1)\n",
    "\n",
    "    mixed_image = lamba * image_1 + (1 - lamba) * image_2\n",
    "    \n",
    "    mixed_label = lamba * label_1 + (1 - lamba) * label_2\n",
    "    \n",
    "    return mixed_image.astype(np.uint8), mixed_label"
   ]
  },
  {
   "cell_type": "markdown",
   "metadata": {},
   "source": [
    "#### - Implementação do cutmix"
   ]
  },
  {
   "cell_type": "code",
   "execution_count": 7,
   "metadata": {},
   "outputs": [],
   "source": [
    "#Hiperparametros do cutmix\n",
    "alpha = 1"
   ]
  },
  {
   "cell_type": "code",
   "execution_count": 8,
   "metadata": {},
   "outputs": [],
   "source": [
    "def position(y,x):\n",
    "    global coordenates\n",
    "    coordenates = (y,x)"
   ]
  },
  {
   "cell_type": "code",
   "execution_count": 9,
   "metadata": {},
   "outputs": [],
   "source": [
    "def cutmix(image_1, image_2, label_1, label_2,size):\n",
    "\n",
    "    lamba = np.random.beta(alpha, alpha)\n",
    "\n",
    "    cutout_image = cutout(image_1.copy(), size)\n",
    "    y,x = coordenates\n",
    "    \n",
    "    mixed_image = cutout_image\n",
    "    mixed_image[y:y+size, x:x+size] = image_2[y:y+size, x:x+size]\n",
    "    \n",
    "    mixed_label = lamba * label_1 + (1 - lamba) * label_2\n",
    "    \n",
    "    return mixed_image, mixed_label"
   ]
  },
  {
   "cell_type": "code",
   "execution_count": 10,
   "metadata": {},
   "outputs": [],
   "source": [
    "def cutmix_(image_1, image_2, label_1, label_2):\n",
    "\n",
    "    lamba = np.random.beta(alpha, alpha)\n",
    "    \n",
    "    #mask\n",
    "    H,W = image_1.shape[0], image_1.shape[1]\n",
    "    \n",
    "    rw = int(W * np.sqrt(1 - lamba))\n",
    "    rh = int(H * np.sqrt(1- lamba))\n",
    "    rx = np.random.randint(0,W - rw)\n",
    "    ry = np.random.randint(0,H - rh)\n",
    "    '''\n",
    "    rx = np.random.randint(0,W)\n",
    "    ry = np.random.randint(0,H)\n",
    "    rw = int(W * np.sqrt(1 - lamba))\n",
    "    rh = int(H * np.sqrt(1- lamba))\n",
    "    '''\n",
    "    \n",
    "    mask = np.ones_like(image_1)\n",
    "    mask[ry:ry+rh, rx:rx+rw] = 0\n",
    "\n",
    "    mixed_image = mask * image_1 + (1 - mask) * image_2\n",
    "\n",
    "    mixed_label = lamba * label_1 + (1 - lamba) * label_2\n",
    "\n",
    "    return mixed_image, mixed_label"
   ]
  },
  {
   "cell_type": "markdown",
   "metadata": {},
   "source": [
    "- a mascara tem que ser proporcional à imagem original ??\n"
   ]
  },
  {
   "cell_type": "code",
   "execution_count": 11,
   "metadata": {},
   "outputs": [
    {
     "ename": "FileNotFoundError",
     "evalue": "No such file: 'c:\\Users\\Beatriz\\Desktop\\3 year (2023-2024)\\2ºsemestre\\estagio\\ordinal_augmentation\\exemplo.jpg'",
     "output_type": "error",
     "traceback": [
      "\u001b[1;31m---------------------------------------------------------------------------\u001b[0m",
      "\u001b[1;31mFileNotFoundError\u001b[0m                         Traceback (most recent call last)",
      "Cell \u001b[1;32mIn[11], line 1\u001b[0m\n\u001b[1;32m----> 1\u001b[0m image1 \u001b[38;5;241m=\u001b[39m \u001b[43mio\u001b[49m\u001b[38;5;241;43m.\u001b[39;49m\u001b[43mimread\u001b[49m\u001b[43m(\u001b[49m\u001b[38;5;124;43m'\u001b[39;49m\u001b[38;5;124;43mexemplo.jpg\u001b[39;49m\u001b[38;5;124;43m'\u001b[39;49m\u001b[43m)\u001b[49m  \n\u001b[0;32m      2\u001b[0m image2 \u001b[38;5;241m=\u001b[39m io\u001b[38;5;241m.\u001b[39mimread(\u001b[38;5;124m'\u001b[39m\u001b[38;5;124mexemplo1.jpg\u001b[39m\u001b[38;5;124m'\u001b[39m) \n\u001b[0;32m      4\u001b[0m label1 \u001b[38;5;241m=\u001b[39m np\u001b[38;5;241m.\u001b[39marray([\u001b[38;5;241m0\u001b[39m, \u001b[38;5;241m1\u001b[39m])  \n",
      "File \u001b[1;32mc:\\Users\\Beatriz\\.pyenv\\pyenv-win\\versions\\3.9.5\\lib\\site-packages\\skimage\\io\\_io.py:53\u001b[0m, in \u001b[0;36mimread\u001b[1;34m(fname, as_gray, plugin, **plugin_args)\u001b[0m\n\u001b[0;32m     50\u001b[0m         plugin \u001b[38;5;241m=\u001b[39m \u001b[38;5;124m'\u001b[39m\u001b[38;5;124mtifffile\u001b[39m\u001b[38;5;124m'\u001b[39m\n\u001b[0;32m     52\u001b[0m \u001b[38;5;28;01mwith\u001b[39;00m file_or_url_context(fname) \u001b[38;5;28;01mas\u001b[39;00m fname:\n\u001b[1;32m---> 53\u001b[0m     img \u001b[38;5;241m=\u001b[39m call_plugin(\u001b[38;5;124m'\u001b[39m\u001b[38;5;124mimread\u001b[39m\u001b[38;5;124m'\u001b[39m, fname, plugin\u001b[38;5;241m=\u001b[39mplugin, \u001b[38;5;241m*\u001b[39m\u001b[38;5;241m*\u001b[39mplugin_args)\n\u001b[0;32m     55\u001b[0m \u001b[38;5;28;01mif\u001b[39;00m \u001b[38;5;129;01mnot\u001b[39;00m \u001b[38;5;28mhasattr\u001b[39m(img, \u001b[38;5;124m'\u001b[39m\u001b[38;5;124mndim\u001b[39m\u001b[38;5;124m'\u001b[39m):\n\u001b[0;32m     56\u001b[0m     \u001b[38;5;28;01mreturn\u001b[39;00m img\n",
      "File \u001b[1;32mc:\\Users\\Beatriz\\.pyenv\\pyenv-win\\versions\\3.9.5\\lib\\site-packages\\skimage\\io\\manage_plugins.py:205\u001b[0m, in \u001b[0;36mcall_plugin\u001b[1;34m(kind, *args, **kwargs)\u001b[0m\n\u001b[0;32m    202\u001b[0m     \u001b[38;5;28;01mexcept\u001b[39;00m \u001b[38;5;167;01mIndexError\u001b[39;00m:\n\u001b[0;32m    203\u001b[0m         \u001b[38;5;28;01mraise\u001b[39;00m \u001b[38;5;167;01mRuntimeError\u001b[39;00m(\u001b[38;5;124mf\u001b[39m\u001b[38;5;124m'\u001b[39m\u001b[38;5;124mCould not find the plugin \u001b[39m\u001b[38;5;124m\"\u001b[39m\u001b[38;5;132;01m{\u001b[39;00mplugin\u001b[38;5;132;01m}\u001b[39;00m\u001b[38;5;124m\"\u001b[39m\u001b[38;5;124m for \u001b[39m\u001b[38;5;132;01m{\u001b[39;00mkind\u001b[38;5;132;01m}\u001b[39;00m\u001b[38;5;124m.\u001b[39m\u001b[38;5;124m'\u001b[39m)\n\u001b[1;32m--> 205\u001b[0m \u001b[38;5;28;01mreturn\u001b[39;00m func(\u001b[38;5;241m*\u001b[39margs, \u001b[38;5;241m*\u001b[39m\u001b[38;5;241m*\u001b[39mkwargs)\n",
      "File \u001b[1;32mc:\\Users\\Beatriz\\.pyenv\\pyenv-win\\versions\\3.9.5\\lib\\site-packages\\skimage\\io\\_plugins\\imageio_plugin.py:11\u001b[0m, in \u001b[0;36mimread\u001b[1;34m(*args, **kwargs)\u001b[0m\n\u001b[0;32m      9\u001b[0m \u001b[38;5;129m@wraps\u001b[39m(imageio_imread)\n\u001b[0;32m     10\u001b[0m \u001b[38;5;28;01mdef\u001b[39;00m \u001b[38;5;21mimread\u001b[39m(\u001b[38;5;241m*\u001b[39margs, \u001b[38;5;241m*\u001b[39m\u001b[38;5;241m*\u001b[39mkwargs):\n\u001b[1;32m---> 11\u001b[0m     out \u001b[38;5;241m=\u001b[39m np\u001b[38;5;241m.\u001b[39masarray(imageio_imread(\u001b[38;5;241m*\u001b[39margs, \u001b[38;5;241m*\u001b[39m\u001b[38;5;241m*\u001b[39mkwargs))\n\u001b[0;32m     12\u001b[0m     \u001b[38;5;28;01mif\u001b[39;00m \u001b[38;5;129;01mnot\u001b[39;00m out\u001b[38;5;241m.\u001b[39mflags[\u001b[38;5;124m'\u001b[39m\u001b[38;5;124mWRITEABLE\u001b[39m\u001b[38;5;124m'\u001b[39m]:\n\u001b[0;32m     13\u001b[0m         out \u001b[38;5;241m=\u001b[39m out\u001b[38;5;241m.\u001b[39mcopy()\n",
      "File \u001b[1;32mc:\\Users\\Beatriz\\.pyenv\\pyenv-win\\versions\\3.9.5\\lib\\site-packages\\imageio\\v3.py:53\u001b[0m, in \u001b[0;36mimread\u001b[1;34m(uri, index, plugin, extension, format_hint, **kwargs)\u001b[0m\n\u001b[0;32m     50\u001b[0m \u001b[38;5;28;01mif\u001b[39;00m index \u001b[38;5;129;01mis\u001b[39;00m \u001b[38;5;129;01mnot\u001b[39;00m \u001b[38;5;28;01mNone\u001b[39;00m:\n\u001b[0;32m     51\u001b[0m     call_kwargs[\u001b[38;5;124m\"\u001b[39m\u001b[38;5;124mindex\u001b[39m\u001b[38;5;124m\"\u001b[39m] \u001b[38;5;241m=\u001b[39m index\n\u001b[1;32m---> 53\u001b[0m \u001b[38;5;28;01mwith\u001b[39;00m imopen(uri, \u001b[38;5;124m\"\u001b[39m\u001b[38;5;124mr\u001b[39m\u001b[38;5;124m\"\u001b[39m, \u001b[38;5;241m*\u001b[39m\u001b[38;5;241m*\u001b[39mplugin_kwargs) \u001b[38;5;28;01mas\u001b[39;00m img_file:\n\u001b[0;32m     54\u001b[0m     \u001b[38;5;28;01mreturn\u001b[39;00m np\u001b[38;5;241m.\u001b[39masarray(img_file\u001b[38;5;241m.\u001b[39mread(\u001b[38;5;241m*\u001b[39m\u001b[38;5;241m*\u001b[39mcall_kwargs))\n",
      "File \u001b[1;32mc:\\Users\\Beatriz\\.pyenv\\pyenv-win\\versions\\3.9.5\\lib\\site-packages\\imageio\\core\\imopen.py:113\u001b[0m, in \u001b[0;36mimopen\u001b[1;34m(uri, io_mode, plugin, extension, format_hint, legacy_mode, **kwargs)\u001b[0m\n\u001b[0;32m    111\u001b[0m     request\u001b[38;5;241m.\u001b[39mformat_hint \u001b[38;5;241m=\u001b[39m format_hint\n\u001b[0;32m    112\u001b[0m \u001b[38;5;28;01melse\u001b[39;00m:\n\u001b[1;32m--> 113\u001b[0m     request \u001b[38;5;241m=\u001b[39m \u001b[43mRequest\u001b[49m\u001b[43m(\u001b[49m\u001b[43muri\u001b[49m\u001b[43m,\u001b[49m\u001b[43m \u001b[49m\u001b[43mio_mode\u001b[49m\u001b[43m,\u001b[49m\u001b[43m \u001b[49m\u001b[43mformat_hint\u001b[49m\u001b[38;5;241;43m=\u001b[39;49m\u001b[43mformat_hint\u001b[49m\u001b[43m,\u001b[49m\u001b[43m \u001b[49m\u001b[43mextension\u001b[49m\u001b[38;5;241;43m=\u001b[39;49m\u001b[43mextension\u001b[49m\u001b[43m)\u001b[49m\n\u001b[0;32m    115\u001b[0m source \u001b[38;5;241m=\u001b[39m \u001b[38;5;124m\"\u001b[39m\u001b[38;5;124m<bytes>\u001b[39m\u001b[38;5;124m\"\u001b[39m \u001b[38;5;28;01mif\u001b[39;00m \u001b[38;5;28misinstance\u001b[39m(uri, \u001b[38;5;28mbytes\u001b[39m) \u001b[38;5;28;01melse\u001b[39;00m uri\n\u001b[0;32m    117\u001b[0m \u001b[38;5;66;03m# fast-path based on plugin\u001b[39;00m\n\u001b[0;32m    118\u001b[0m \u001b[38;5;66;03m# (except in legacy mode)\u001b[39;00m\n",
      "File \u001b[1;32mc:\\Users\\Beatriz\\.pyenv\\pyenv-win\\versions\\3.9.5\\lib\\site-packages\\imageio\\core\\request.py:247\u001b[0m, in \u001b[0;36mRequest.__init__\u001b[1;34m(self, uri, mode, extension, format_hint, **kwargs)\u001b[0m\n\u001b[0;32m    244\u001b[0m     \u001b[38;5;28;01mraise\u001b[39;00m \u001b[38;5;167;01mValueError\u001b[39;00m(\u001b[38;5;124mf\u001b[39m\u001b[38;5;124m\"\u001b[39m\u001b[38;5;124mInvalid Request.Mode: \u001b[39m\u001b[38;5;132;01m{\u001b[39;00mmode\u001b[38;5;132;01m}\u001b[39;00m\u001b[38;5;124m\"\u001b[39m)\n\u001b[0;32m    246\u001b[0m \u001b[38;5;66;03m# Parse what was given\u001b[39;00m\n\u001b[1;32m--> 247\u001b[0m \u001b[38;5;28;43mself\u001b[39;49m\u001b[38;5;241;43m.\u001b[39;49m\u001b[43m_parse_uri\u001b[49m\u001b[43m(\u001b[49m\u001b[43muri\u001b[49m\u001b[43m)\u001b[49m\n\u001b[0;32m    249\u001b[0m \u001b[38;5;66;03m# Set extension\u001b[39;00m\n\u001b[0;32m    250\u001b[0m \u001b[38;5;28;01mif\u001b[39;00m extension \u001b[38;5;129;01mis\u001b[39;00m \u001b[38;5;129;01mnot\u001b[39;00m \u001b[38;5;28;01mNone\u001b[39;00m:\n",
      "File \u001b[1;32mc:\\Users\\Beatriz\\.pyenv\\pyenv-win\\versions\\3.9.5\\lib\\site-packages\\imageio\\core\\request.py:407\u001b[0m, in \u001b[0;36mRequest._parse_uri\u001b[1;34m(self, uri)\u001b[0m\n\u001b[0;32m    404\u001b[0m \u001b[38;5;28;01mif\u001b[39;00m is_read_request:\n\u001b[0;32m    405\u001b[0m     \u001b[38;5;66;03m# Reading: check that the file exists (but is allowed a dir)\u001b[39;00m\n\u001b[0;32m    406\u001b[0m     \u001b[38;5;28;01mif\u001b[39;00m \u001b[38;5;129;01mnot\u001b[39;00m os\u001b[38;5;241m.\u001b[39mpath\u001b[38;5;241m.\u001b[39mexists(fn):\n\u001b[1;32m--> 407\u001b[0m         \u001b[38;5;28;01mraise\u001b[39;00m \u001b[38;5;167;01mFileNotFoundError\u001b[39;00m(\u001b[38;5;124m\"\u001b[39m\u001b[38;5;124mNo such file: \u001b[39m\u001b[38;5;124m'\u001b[39m\u001b[38;5;132;01m%s\u001b[39;00m\u001b[38;5;124m'\u001b[39m\u001b[38;5;124m\"\u001b[39m \u001b[38;5;241m%\u001b[39m fn)\n\u001b[0;32m    408\u001b[0m \u001b[38;5;28;01melse\u001b[39;00m:\n\u001b[0;32m    409\u001b[0m     \u001b[38;5;66;03m# Writing: check that the directory to write to does exist\u001b[39;00m\n\u001b[0;32m    410\u001b[0m     dn \u001b[38;5;241m=\u001b[39m os\u001b[38;5;241m.\u001b[39mpath\u001b[38;5;241m.\u001b[39mdirname(fn)\n",
      "\u001b[1;31mFileNotFoundError\u001b[0m: No such file: 'c:\\Users\\Beatriz\\Desktop\\3 year (2023-2024)\\2ºsemestre\\estagio\\ordinal_augmentation\\exemplo.jpg'"
     ]
    }
   ],
   "source": [
    "image1 = io.imread('exemplo.jpg')  \n",
    "image2 = io.imread('exemplo1.jpg') \n",
    "\n",
    "label1 = np.array([0, 1])  \n",
    "label2 = np.array([1, 0])  \n",
    "\n",
    "image_cutout = cutout(image1.copy(), 40)\n",
    "image_mixup,_ = mixup(image1.copy(), image2.copy(), label1, label2)\n",
    "image_cutmix,_ = cutmix(image1.copy(), image2.copy(), label1, label2, 100)\n",
    "image_cutmix_,_ = cutmix_(image1.copy(), image2.copy(), label1, label2)\n",
    "\n",
    "display_image(image1, image_cutout, 'Cutout')\n",
    "display_images(image1, image2, image_mixup, 'Mixup')\n",
    "display_images(image1, image2, image_cutmix, 'Cutmix 1')\n",
    "display_images(image1, image2, image_cutmix_, 'Cutmix 2')"
   ]
  },
  {
   "cell_type": "markdown",
   "metadata": {},
   "source": [
    "## Segunda Semana de Estágio"
   ]
  },
  {
   "cell_type": "markdown",
   "metadata": {},
   "source": [
    "### Reunião\n"
   ]
  },
  {
   "cell_type": "code",
   "execution_count": null,
   "metadata": {},
   "outputs": [
    {
     "data": {
      "text/plain": [
       "'\\nadjacent ordinal mixup (https://arxiv.org/pdf/2007.06667.pdf)\\n\\ndef adjacent_ordinal_mixup(lista_imagens):\\n    k1 = ...  # [0,k-2]\\n    k2 = k1+1\\n    ....\\n\\n\\n\\nordinal mixup (airton tiago)\\n\\ndef ordinal_mixup(lista_imagens, tau):\\n    num_classes = len(lista_imagens)\\n    ...\\n\\ndef softmax(x):\\n    return x\\n\\ndef exp(center_class, num_classes, tau):\\n    kk = np.arange(0, num_classes)\\n    return softmax(np.exp(-np.abs(center_class-kk)/tau))\\n\\n# escolher aleatoriamente (de forma uniforme) uma classe [0, num_classes[\\n# probabilities = exp(...)\\n# x = sum(probabilities * x)\\n\\n\\n##################################################\\n\\n\\n\\ndef cutmix_ordinal(lista_imagens):\\n    probabilities = exp(...)\\n    (o que discutimos no papel)\\n'"
      ]
     },
     "execution_count": 175,
     "metadata": {},
     "output_type": "execute_result"
    }
   ],
   "source": [
    "'''\n",
    "adjacent ordinal mixup (https://arxiv.org/pdf/2007.06667.pdf)\n",
    "\n",
    "def adjacent_ordinal_mixup(lista_imagens):\n",
    "    k1 = ...  # [0,k-2]\n",
    "    k2 = k1+1\n",
    "    ....\n",
    "\n",
    "\n",
    "\n",
    "ordinal mixup (airton tiago)\n",
    "\n",
    "def ordinal_mixup(lista_imagens, tau):\n",
    "    num_classes = len(lista_imagens)\n",
    "    ...\n",
    "\n",
    "def softmax(x):\n",
    "    return x\n",
    "\n",
    "def exp(center_class, num_classes, tau):\n",
    "    kk = np.arange(0, num_classes)\n",
    "    return softmax(np.exp(-np.abs(center_class-kk)/tau))\n",
    "\n",
    "# escolher aleatoriamente (de forma uniforme) uma classe [0, num_classes[\n",
    "# probabilities = exp(...)\n",
    "# x = sum(probabilities * x)\n",
    "\n",
    "\n",
    "##################################################\n",
    "\n",
    "\n",
    "\n",
    "def cutmix_ordinal(lista_imagens):\n",
    "    probabilities = exp(...)\n",
    "    (o que discutimos no papel)\n",
    "'''"
   ]
  },
  {
   "cell_type": "code",
   "execution_count": null,
   "metadata": {},
   "outputs": [],
   "source": [
    "def calcular_distance(H,W,area):\n",
    "    raiz_discriminante = math.sqrt((2*(H + W))**2 - 16* area)\n",
    "    distance = (-2*(H + W) + raiz_discriminante) / - 8\n",
    "    return distance"
   ]
  },
  {
   "cell_type": "code",
   "execution_count": null,
   "metadata": {},
   "outputs": [],
   "source": [
    "def probability_side(x,y,probabilities):\n",
    "    probability = 0\n",
    "    for k in range(x,y):\n",
    "        probability += probabilities[k]\n",
    "    return probability"
   ]
  },
  {
   "cell_type": "code",
   "execution_count": null,
   "metadata": {},
   "outputs": [],
   "source": [
    "def imagens_seguintes(num_inicial, num_final, valor, probabilities, H , W, list_images):\n",
    "    total_area = H*W\n",
    "    y = 0\n",
    "    x = 0\n",
    "    image_final = list_images[num_inicial+valor].copy()\n",
    "    image_final = image_final[y:H, x:W]\n",
    "    #plt.imshow(image_final)\n",
    "\n",
    "    print('num_final-num_inicial + 1:', num_final-num_inicial + 1)\n",
    "    for k in range(num_inicial+valor, num_final+valor, valor):\n",
    "        img_area = total_area*probabilities[k]\n",
    "        print('img_area:', img_area)\n",
    "        distance = int(calcular_distance(H,W,img_area))\n",
    "        print('distance:', distance)\n",
    "        num_inicial += valor\n",
    "        H -= 2*distance\n",
    "        W -= 2*distance\n",
    "        \n",
    "        x += distance\n",
    "        y += distance\n",
    "        \n",
    "        image_final[y:y+H, x:x+W] = list_images[k][y:y+H, x:x+W]\n",
    "        \n",
    "    return image_final\n"
   ]
  },
  {
   "cell_type": "code",
   "execution_count": null,
   "metadata": {},
   "outputs": [],
   "source": [
    "#def exp(num_classes, center_class, tau):\n",
    "#    return softmax(np.abs(center_class - num_classes) / tau)\n",
    "\n",
    "def exp(num_classes, center_class, tau):\n",
    "    # retorna um vector (com tamanho num_classes) com a distribuição def\n",
    "    # probabilidades para cada classe [0,num_classes[.\n",
    "    x = np.arange(num_classes)\n",
    "    return softmax(-np.abs(center_class - x) / tau)\n",
    "\n",
    "def mixup_images(list_images, lam):\n",
    "    mixup_image = np.sum(np.array(list_images) * lam[:, None, None, None], 0)\n",
    "    return mixup_image\n",
    "\n",
    "def create_lam(list_images):\n",
    "    size = len(list_images)\n",
    "    lam = np.zeros(size)\n",
    "    return size, lam\n",
    "\n",
    "def softmax(x):\n",
    "    return np.exp(x) / np.sum(np.exp(x))\n",
    "\n",
    "def ordinal_mixup(list_images):\n",
    "    size, lam = create_lam(list_images)\n",
    "\n",
    "    class_1 = np.random.randint(0, size)\n",
    "    class_2 = np.random.randint(0, size)\n",
    "\n",
    "    beta = np.random.beta(alpha, alpha)\n",
    "\n",
    "    lam[class_1] = beta\n",
    "    lam[class_2] = 1 - beta\n",
    "\n",
    "    mixup_image = mixup_images(list_images, lam)\n",
    "    return mixup_image, lam\n",
    "\n",
    "def ordinal_adjacent_mixup(list_images):\n",
    "    size, lam = create_lam(list_images)\n",
    "\n",
    "    class_1 = np.random.randint(0, size - 2)\n",
    "    class_2 = class_1 + 1\n",
    "\n",
    "    beta = np.random.beta(alpha, alpha)\n",
    "\n",
    "    lam[class_1] = beta\n",
    "    lam[class_2] = 1 - beta\n",
    "\n",
    "    mixup_image = mixup_images(list_images, lam)\n",
    "    return mixup_image, lam\n",
    "\n",
    "def ordinal_exponencial_mixup(list_images, tau):\n",
    "    size, lam = create_lam(list_images)\n",
    "    l = np.random.randint(0, size) + 1\n",
    "    k = np.arange(1, size+1)\n",
    "    lam = exp(k,l, tau)\n",
    "\n",
    "    mixup_image = mixup_images(list_images, lam)\n",
    "    return mixup_image, lam\n"
   ]
  },
  {
   "cell_type": "code",
   "execution_count": null,
   "metadata": {},
   "outputs": [],
   "source": [
    "def ordinal_cutmix(list_images,tau):\n",
    "    num_classes = len(list_images)\n",
    "    x = 0\n",
    "    y = 0\n",
    "    center_class = np.random.randint(0, num_classes)\n",
    "    probabilities = exp(num_classes,center_class, tau)\n",
    "    H, W = list_images[0].shape[0:2]\n",
    "    total_area = H*W\n",
    "    image_final = list_images[0].copy()\n",
    "\n",
    "    for i in range(0,num_classes-1):\n",
    "        img_area = total_area*probabilities[i]\n",
    "        distance = int(calcular_distance(H,W,img_area))\n",
    "        H -= 2*distance\n",
    "        W -= 2*distance\n",
    "        #mask = np.ones_like(list_images[i])\n",
    "        x += distance\n",
    "        y += distance\n",
    "        #mask[y:y+H, x:x+W] = 0\n",
    "        #image_final = mask * image_final + (1 - mask) * list_images[i+1]\n",
    "        image_final[y:y+H, x:x+W] = list_images[i+1][y:y+H, x:x+W]\n",
    "\n",
    "    return image_final\n",
    "\n",
    "def ordinal_cutmix_jaime(list_images, tau):\n",
    "    num_classes = len(list_images)\n",
    "    #center_class = np.random.randint(0, num_classes)\n",
    "    #probabilities = exp(num_classes,center_class, tau)\n",
    "    center_class = 3\n",
    "    probabilities = [0.15, 0.15, 0.3, 0.4, 0, 0, 0]\n",
    "\n",
    "    H, W = list_images[0].shape[0:2]\n",
    "    total_area = H*W\n",
    "    image_final = list_images[center_class].copy()\n",
    "\n",
    "    probability_left = np.sum(probabilities[0:center_class]) #probability_side(0,center_class,probabilities)\n",
    "    probability_rigth = np.sum(probabilities[center_class+1:])\n",
    "\n",
    "    area_left = total_area * probability_left\n",
    "    area_rigth = total_area * probability_rigth\n",
    "\n",
    "    #supondo que o imagem vai ser um quadrado\n",
    "    H_left = int(np.sqrt(area_left))\n",
    "    H_rigth = int(np.sqrt(area_rigth))\n",
    "\n",
    "    print(\"central :\",center_class)\n",
    "    print(\"probabilities:\", probabilities)\n",
    "    print(\"H_left:\", H_left)\n",
    "\n",
    "    image_left = imagens_seguintes(center_class, 0, -1, probabilities, H_left , H_left, list_images)\n",
    "    image_rigth = imagens_seguintes(center_class, num_classes, +1, probabilities, H_rigth , H_rigth, list_images)\n",
    "\n",
    "    #def imagens_seguintes(num_inicial, num_final, valor, probabilities, H , W, list_images):\n",
    "\n",
    "    image_final[0:H_left,0:H_left] = image_left\n",
    "    #image_final[256-H_rigth:256,256-H_rigth:256] = image_rigth\n",
    "    return image_final"
   ]
  },
  {
   "cell_type": "code",
   "execution_count": null,
   "metadata": {},
   "outputs": [],
   "source": [
    "def load_images(folder):\n",
    "    images = []\n",
    "    for root, _, files in os.walk(folder):\n",
    "        for filename in files:\n",
    "            if filename.endswith(\".BMP\"):\n",
    "                img = io.imread(os.path.join(root, filename))\n",
    "                img = resize(img,(256, 256))\n",
    "                images.append(img)\n",
    "    return images\n",
    "\n",
    "\n",
    "list_images = load_images('smear')"
   ]
  },
  {
   "cell_type": "code",
   "execution_count": null,
   "metadata": {},
   "outputs": [
    {
     "ename": "NameError",
     "evalue": "name 'ordinal_cutmix_jaime' is not defined",
     "output_type": "error",
     "traceback": [
      "\u001b[1;31m---------------------------------------------------------------------------\u001b[0m",
      "\u001b[1;31mNameError\u001b[0m                                 Traceback (most recent call last)",
      "Cell \u001b[1;32mIn[21], line 1\u001b[0m\n\u001b[1;32m----> 1\u001b[0m images_final \u001b[38;5;241m=\u001b[39m \u001b[43mordinal_cutmix_jaime\u001b[49m(list_images,\u001b[38;5;241m0.5\u001b[39m)\n\u001b[0;32m      2\u001b[0m plt\u001b[38;5;241m.\u001b[39mfigure(figsize\u001b[38;5;241m=\u001b[39m(\u001b[38;5;241m20\u001b[39m, \u001b[38;5;241m4\u001b[39m))\n\u001b[0;32m      3\u001b[0m plt\u001b[38;5;241m.\u001b[39mimshow(images_final)\n",
      "\u001b[1;31mNameError\u001b[0m: name 'ordinal_cutmix_jaime' is not defined"
     ]
    }
   ],
   "source": [
    "images_final = ordinal_cutmix_jaime(list_images,0.5)\n",
    "plt.figure(figsize=(20, 4))\n",
    "plt.imshow(images_final)\n",
    "plt.show()"
   ]
  },
  {
   "cell_type": "code",
   "execution_count": null,
   "metadata": {},
   "outputs": [],
   "source": []
  }
 ],
 "metadata": {
  "kernelspec": {
   "display_name": "Python 3",
   "language": "python",
   "name": "python3"
  },
  "language_info": {
   "codemirror_mode": {
    "name": "ipython",
    "version": 3
   },
   "file_extension": ".py",
   "mimetype": "text/x-python",
   "name": "python",
   "nbconvert_exporter": "python",
   "pygments_lexer": "ipython3",
   "version": "3.9.5"
  }
 },
 "nbformat": 4,
 "nbformat_minor": 2
}
